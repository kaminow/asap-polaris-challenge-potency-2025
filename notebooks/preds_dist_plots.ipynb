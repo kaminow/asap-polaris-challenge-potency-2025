{
 "cells": [
  {
   "cell_type": "code",
   "execution_count": 3,
   "id": "943d8537-1368-4ac4-8c9d-853602ebe02b",
   "metadata": {},
   "outputs": [],
   "source": [
    "import json\n",
    "from pathlib import Path\n",
    "\n",
    "import matplotlib.pyplot as plt\n",
    "import numpy as np\n",
    "import pandas\n",
    "import seaborn as sns\n",
    "\n",
    "%matplotlib inline"
   ]
  },
  {
   "cell_type": "code",
   "execution_count": 10,
   "id": "55cccd78-4a1a-41df-ab45-253d0ca3e746",
   "metadata": {},
   "outputs": [
    {
     "data": {
      "text/plain": [
       "{'SARS': 5.042179602888086, 'MERS': 5.772885682574917}"
      ]
     },
     "execution_count": 10,
     "metadata": {},
     "output_type": "execute_result"
    }
   ],
   "source": [
    "sars_exp_path = Path(\"../ml_datasets/sars_exp_file.json\")\n",
    "mers_exp_path = Path(\"../ml_datasets/mers_exp_file.json\")\n",
    "sars_exp_data = {\n",
    "    d[\"compound_id\"]: d[\"experimental_data\"][\"pIC50\"]\n",
    "    for d in json.loads(sars_exp_path.read_text())\n",
    "}\n",
    "mers_exp_data = {\n",
    "    d[\"compound_id\"]: d[\"experimental_data\"][\"pIC50\"]\n",
    "    for d in json.loads(mers_exp_path.read_text())\n",
    "}\n",
    "exp_mean_dict = {\n",
    "    \"SARS\": np.mean(list(sars_exp_data.values())),\n",
    "    \"MERS\": np.mean(list(mers_exp_data.values())),\n",
    "}\n",
    "exp_mean_dict"
   ]
  },
  {
   "cell_type": "code",
   "execution_count": 5,
   "id": "da1c72f8-460e-4d1b-860f-de1d831b023f",
   "metadata": {},
   "outputs": [],
   "source": [
    "sars_preds = np.load(\"../predictions/sars.npy\")\n",
    "mers_preds = np.load(\"../predictions/mers.npy\")"
   ]
  },
  {
   "cell_type": "code",
   "execution_count": 6,
   "id": "0db4d25b-d129-49d1-a1ff-3415ffb7e159",
   "metadata": {},
   "outputs": [
    {
     "data": {
      "text/html": [
       "<div>\n",
       "<style scoped>\n",
       "    .dataframe tbody tr th:only-of-type {\n",
       "        vertical-align: middle;\n",
       "    }\n",
       "\n",
       "    .dataframe tbody tr th {\n",
       "        vertical-align: top;\n",
       "    }\n",
       "\n",
       "    .dataframe thead th {\n",
       "        text-align: right;\n",
       "    }\n",
       "</style>\n",
       "<table border=\"1\" class=\"dataframe\">\n",
       "  <thead>\n",
       "    <tr style=\"text-align: right;\">\n",
       "      <th></th>\n",
       "      <th>Target</th>\n",
       "      <th>Predicted pIC$_{50}$</th>\n",
       "    </tr>\n",
       "  </thead>\n",
       "  <tbody>\n",
       "    <tr>\n",
       "      <th>0</th>\n",
       "      <td>SARS</td>\n",
       "      <td>5.073753</td>\n",
       "    </tr>\n",
       "    <tr>\n",
       "      <th>1</th>\n",
       "      <td>SARS</td>\n",
       "      <td>6.185442</td>\n",
       "    </tr>\n",
       "    <tr>\n",
       "      <th>2</th>\n",
       "      <td>SARS</td>\n",
       "      <td>7.083118</td>\n",
       "    </tr>\n",
       "    <tr>\n",
       "      <th>3</th>\n",
       "      <td>SARS</td>\n",
       "      <td>5.102748</td>\n",
       "    </tr>\n",
       "    <tr>\n",
       "      <th>4</th>\n",
       "      <td>SARS</td>\n",
       "      <td>6.275742</td>\n",
       "    </tr>\n",
       "    <tr>\n",
       "      <th>...</th>\n",
       "      <td>...</td>\n",
       "      <td>...</td>\n",
       "    </tr>\n",
       "    <tr>\n",
       "      <th>589</th>\n",
       "      <td>MERS</td>\n",
       "      <td>5.445300</td>\n",
       "    </tr>\n",
       "    <tr>\n",
       "      <th>590</th>\n",
       "      <td>MERS</td>\n",
       "      <td>5.445300</td>\n",
       "    </tr>\n",
       "    <tr>\n",
       "      <th>591</th>\n",
       "      <td>MERS</td>\n",
       "      <td>5.494909</td>\n",
       "    </tr>\n",
       "    <tr>\n",
       "      <th>592</th>\n",
       "      <td>MERS</td>\n",
       "      <td>5.909341</td>\n",
       "    </tr>\n",
       "    <tr>\n",
       "      <th>593</th>\n",
       "      <td>MERS</td>\n",
       "      <td>5.909341</td>\n",
       "    </tr>\n",
       "  </tbody>\n",
       "</table>\n",
       "<p>594 rows × 2 columns</p>\n",
       "</div>"
      ],
      "text/plain": [
       "    Target  Predicted pIC$_{50}$\n",
       "0     SARS              5.073753\n",
       "1     SARS              6.185442\n",
       "2     SARS              7.083118\n",
       "3     SARS              5.102748\n",
       "4     SARS              6.275742\n",
       "..     ...                   ...\n",
       "589   MERS              5.445300\n",
       "590   MERS              5.445300\n",
       "591   MERS              5.494909\n",
       "592   MERS              5.909341\n",
       "593   MERS              5.909341\n",
       "\n",
       "[594 rows x 2 columns]"
      ]
     },
     "execution_count": 6,
     "metadata": {},
     "output_type": "execute_result"
    }
   ],
   "source": [
    "preds_df = pandas.DataFrame(\n",
    "    {\n",
    "        \"Target\": [\"SARS\"] * len(sars_preds) + [\"MERS\"] * len(mers_preds),\n",
    "        \"Predicted pIC$_{50}$\": np.concatenate([sars_preds, mers_preds]),\n",
    "    }\n",
    ")\n",
    "preds_df"
   ]
  },
  {
   "cell_type": "code",
   "execution_count": null,
   "id": "51d9e2ef-d1e1-452a-a411-ad3d492eca1b",
   "metadata": {},
   "outputs": [],
   "source": [
    "ax = sns.histplot(\n",
    "    preds_df,\n",
    "    x=\"Predicted pIC$_{50}$\",\n",
    "    hue=\"Target\",\n",
    "    hue_order=[\"SARS\", \"MERS\"],\n",
    "    # complementary=True,\n",
    ")\n",
    "\n",
    "for target, c in zip([\"SARS\", \"MERS\"], sns.color_palette()):\n",
    "    ax.axvline(exp_mean_dict[target], ls=\"--\", c=c, alpha=0.5)\n",
    "\n",
    "ax.set_title(\"Test Set Predictions\")\n",
    "ax.get_figure().savefig(\n",
    "    \"../figures/test_set_predictions_from_scratch.png\", bbox_inches=\"tight\", dpi=200\n",
    ")"
   ]
  }
 ],
 "metadata": {
  "kernelspec": {
   "display_name": "asapdiscovery_dev",
   "language": "python",
   "name": "asapdiscovery_dev"
  },
  "language_info": {
   "codemirror_mode": {
    "name": "ipython",
    "version": 3
   },
   "file_extension": ".py",
   "mimetype": "text/x-python",
   "name": "python",
   "nbconvert_exporter": "python",
   "pygments_lexer": "ipython3",
   "version": "3.10.14"
  }
 },
 "nbformat": 4,
 "nbformat_minor": 5
}
